{
  "nbformat": 4,
  "nbformat_minor": 0,
  "metadata": {
    "colab": {
      "provenance": []
    },
    "kernelspec": {
      "name": "python3",
      "display_name": "Python 3"
    },
    "language_info": {
      "name": "python"
    }
  },
  "cells": [
    {
      "cell_type": "code",
      "execution_count": null,
      "metadata": {
        "id": "9OyZ2t_BRbrn"
      },
      "outputs": [],
      "source": []
    },
    {
      "cell_type": "markdown",
      "source": [
        "Launch a Jupyter container\n",
        "Inside the SSH session, start a Jupyter container:\n",
        "\n",
        "# run on node-eval-offline\n",
        "docker run -d --rm -p 8888:8888 \\\n",
        "  -v ~/eval-offline-chi/workspace:/home/jovyan/work/ \\\n",
        "  -v adobevfr_filtered:/mnt/ \\\n",
        "  -e FONT_DATA_DIR=/mnt/evaluation_filtered \\\n",
        "  --name jupyter \\\n",
        "  quay.io/jupyter/pytorch-notebook:pytorch-2.5.1\n",
        "\n",
        "Run\n",
        "\n",
        "# run on node-eval-offline\n",
        "docker logs jupyter\n",
        "and look for a line like\n",
        "\n",
        "http://127.0.0.1:8888/lab?token=XXXXXXXXXXXXXXXXXXXXXXXXXXXXXXXXXXXXXXXXXXXXXXXX\n",
        "Paste this into a browser tab, but in place of 127.0.0.1, substitute the floating IP assigned to your instance, to open the Jupyter notebook interface that is running on your compute instance.\n",
        "\n",
        "Open a terminal inside this Jupyter container, and run\n",
        "\n",
        "# run in Jupyter container on node-eval-offline\n",
        "pip install grad-cam pytest\n",
        "Then, in the file browser on the left side, open the “work” directory and then click on the eval_offline.ipynb notebook to continue."
      ],
      "metadata": {
        "id": "lXu55098RhRi"
      }
    }
  ]
}